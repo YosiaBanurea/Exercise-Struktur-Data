{
  "nbformat": 4,
  "nbformat_minor": 0,
  "metadata": {
    "colab": {
      "provenance": []
    },
    "kernelspec": {
      "name": "python3",
      "display_name": "Python 3"
    },
    "language_info": {
      "name": "python"
    }
  },
  "cells": [
    {
      "cell_type": "markdown",
      "source": [
        "* Yosia Letare Banurea_121450149_Tugas Pertemuan 9_Struktur Data\n",
        "\n",
        "# Exercise 9 Struktur Data\n",
        "\n",
        "## Introduction Section\n",
        "1. Jelaskan definisi object dalam Paradigma Object-Oriented!\n",
        "2. Jelaskan tiga tujuan dalam Paradigma Object-Oriented!\n",
        "3. Jelaskan tiga prinsip dalam Paradigma Object-Oriented!\n",
        "4. Sebutkan contoh design pattern dalam Paradigma Object-Oriented!\n",
        "\n",
        "##Jawaban:\n",
        "1. Dalam Object Oriented Programming, Objeck adalah suatu cara untuk membungkus data dan fungsi bersama menjadi suatu unit dalam sebuah program komputer.\n",
        "2. A. Robustness \n",
        "Mampu menangani input yang tidak terduga\n",
        "B. Adaptability \n",
        "mampu menjalankan dengan perubahan minimal pada platform yag berbeda perangkat keras dan sistem operasi\n",
        "C. Reusability \n",
        "Kode yang sama harus dapat digunakan sebagai komponen\n",
        "\n",
        "3. A. Modularity\n",
        "Kumpulan fungsi dan kelas yang terkait erat yang didefinisikan bersama dalam satu file kode sumber\n",
        "B. Abstraction\n",
        "Model struktur data\n",
        "C. Encapsulation\n",
        "Diasumsikan beberapa struktur data bersifat publik atau yang dianggap sebagai detail internal\n",
        "4. Creational Patterns, Structural Patterns, Behavioral Patterns\n",
        "\n",
        "\n",
        "        "
      ],
      "metadata": {
        "id": "5N8rBeElfnTF"
      }
    },
    {
      "cell_type": "markdown",
      "source": [
        "## Class and Object\n",
        "1. Jelaskan definisi Class!\n",
        "2. Jelaskan perbedaan Attribute dengan Method!\n",
        "3. Jelaskan apa itu instansiasi Object!\n",
        "4. Jelaskan apa itu identifier!\n",
        "\n",
        "## Jawaban:\n",
        "1. Kelas adalah tipe data dari data dan metode untuk tipe objek tertentu, Kelas juga berfungsi sebagai sarana utama untuk abstraksi dalam pemrograman berorientasi objek.\n",
        "2. Attribute merupakan karakteristik dari suatu class. Attribut ini berupa suatu variable yang terletak tepat di dalam class. Sementara Method merupakan fungsi yang merupakan kepemilikan dari objek tersebut.\n",
        "3. Proses membuat objek dari kelas menggunakan () setelah className dapat berisi parameter\n",
        "4. sebuah penanda identitas pada sebuah fungsi yang dideklarasikan"
      ],
      "metadata": {
        "id": "4RQPpALlk9iN"
      }
    },
    {
      "cell_type": "markdown",
      "source": [
        "## Implementing Class\n",
        "Implementasikan kelas diagram \"Kendaraan\" berikut ke dalam Python!\n",
        "\n",
        "   Class Kendaraan :\n",
        "   \n",
        "    - string nomorPlat\n",
        "    - string merk\n",
        "    - string jenis\n",
        "    - string warna\n",
        "    - int tanggalBeli\n",
        "    - int bulanBeli\n",
        "    - int tahunBeli\n",
        "    - double berat\n",
        "    - double harga\n",
        "    - showTanggalPembelian()"
      ],
      "metadata": {
        "id": "7LFShJSimm0U"
      }
    },
    {
      "cell_type": "code",
      "execution_count": 1,
      "metadata": {
        "colab": {
          "base_uri": "https://localhost:8080/"
        },
        "id": "x5bVUaTifcbT",
        "outputId": "e6426e93-8685-42e2-d00c-0a6c6a4fc359"
      },
      "outputs": [
        {
          "output_type": "stream",
          "name": "stdout",
          "text": [
            "Tanggal pembelian kendaraan dengan plat nomor B 1234 ABC dan merk Tesla adalah 15 / 4 / 2023\n"
          ]
        }
      ],
      "source": [
        "class Kendaraan:\n",
        "  def __init__(self, nomorPlat, merk, jenis, warna, tanggalBeli, bulanBeli, tahunBeli, berat, harga):\n",
        "    self.nomorPlat = nomorPlat\n",
        "    self.merk = merk\n",
        "    self.jenis = jenis\n",
        "    self.warna = warna\n",
        "    self.tanggalBeli = tanggalBeli\n",
        "    self.bulanBeli = bulanBeli\n",
        "    self.tahunBeli = tahunBeli\n",
        "    self.berat = berat\n",
        "    self.harga = harga\n",
        "  def showTanggalPembelian(self):\n",
        "    print(f\"Tanggal pembelian kendaraan dengan plat nomor {self.nomorPlat} dan merk {self.merk} adalah {self.tanggalBeli} / {self.bulanBeli} / {self.tahunBeli}\")\n",
        "\n",
        "mobil_saya = Kendaraan(\"B 1234 ABC\", \"Tesla\", \"CyberTruck\", \"Silver\", 15, 4, 2023, 680.5, 572.9)\n",
        "mobil_saya.showTanggalPembelian()"
      ]
    },
    {
      "cell_type": "markdown",
      "source": [
        "## Main OOP Concept\n",
        "1. Jelaskan konsep encapsulation dalam Paradigma Object-Oriented!\n",
        "2. Jelaskan konsep inheritance dalam Paradigma Object-Oriented!\n",
        "3. Jelaskan perbedaan public method dan private method dalam encapsulation!\n",
        "4. Jelaskan perbedaan superclass dan subclass dalam inheritance!\n",
        "\n",
        "##Jawaban:\n",
        "1. Dalam OOP, konsep encapsulation digunakan untuk membatasi akses method agar tidak bisa diakses dari luar object\n",
        "2. Inheritance adalah sebuah konsep penurunan sifat dan karakter yang selalu mempunyai sifat dan karakter yang sama pada kelas utamanya\n",
        "3. Public dapat diakses dari mana saja(luar class/fungsi), sedangkan Private hanya dapat diakses dari objek itu sendiri\n",
        "4. Superclass adalah kelas yang ada dari mana kelas baru diturunkan sedangkan Subclass adalah kelas baru yang mewarisi properti dan metode Superclass."
      ],
      "metadata": {
        "id": "dbKQfL91nDUI"
      }
    },
    {
      "cell_type": "markdown",
      "source": [
        "## Programming Exercise\n",
        "- Buatlah class diagram dari code python berikut ini:"
      ],
      "metadata": {
        "id": "4xhOYI9HoVal"
      }
    },
    {
      "cell_type": "code",
      "source": [
        "class Koordinat:\n",
        "\tdef __init__(self,x,y):\n",
        "\t\tself.z = 0\n",
        "\t\tself.x = x\n",
        "\t\tself.y = y\n",
        "\tdef set_x(self,x):\n",
        "\t\tself.x = x\n",
        "\tdef increment_x(self):\n",
        "\t\tself.x+=1\n",
        "\tdef __str__(self):\n",
        "\t\treturn f\"x : {self.x} , y:{self.y} , z:{self.z}\""
      ],
      "metadata": {
        "id": "aZPFRr0aokgn"
      },
      "execution_count": null,
      "outputs": []
    },
    {
      "cell_type": "markdown",
      "source": [
        "- Implementasikan class diagram berikut menjadi program python!\n",
        "\n",
        "```mermaid\n",
        "classDiagram\n",
        "class Koordinat{\n",
        "\tint x\n",
        "\tint y\n",
        "\tint z\n",
        "\tsetx()\n",
        "\tsety()\n",
        "\tsetz()\n",
        "}\n",
        "class Vector{\n",
        "\tKoordinat koordinat\n",
        "\tsetKoordinat()\n",
        "\tgetKoordinat()\n",
        "\tnorm()\n",
        "}\n",
        "```"
      ],
      "metadata": {
        "id": "DExCUjeSo3Yx"
      }
    },
    {
      "cell_type": "code",
      "source": [
        "from numpy import sqrt\n",
        "class Koordinat:\n",
        "  def __init__(self, x, y, z):\n",
        "    self.x = x\n",
        "    self.y = y\n",
        "    self.z = z\n",
        "\n",
        "  def setx(self, X):\n",
        "    self.x = X\n",
        "    return self.x\n",
        "  def sety(self, Y):\n",
        "    self.y = Y\n",
        "    return self.y\n",
        "\n",
        "  def setz(self, Z):\n",
        "    self.z = Z\n",
        "    return self.z\n",
        "\n",
        "class Vector(Koordinat):\n",
        "\n",
        "  def setKoordinat(self, X, Y, Z):\n",
        "    self.x = X\n",
        "    self.y = Y\n",
        "    self.z = Z\n",
        "\n",
        "  def getKoordinat(self):\n",
        "    print(f\" Koordinat Vektor adalah: {self.x, self.y, self.z}\")\n",
        "\n",
        "  def norm(self):\n",
        "    Norm = sqrt(self.x**2 + self.y**2 + self.z**2)\n",
        "    return Norm\n",
        "koor = Vector(3,6,9)\n",
        "koor.getKoordinat()\n",
        "koor.norm()"
      ],
      "metadata": {
        "colab": {
          "base_uri": "https://localhost:8080/"
        },
        "id": "PsYNrpa7o8XS",
        "outputId": "af78a399-45aa-43a4-ab90-143169fb5234"
      },
      "execution_count": 3,
      "outputs": [
        {
          "output_type": "stream",
          "name": "stdout",
          "text": [
            " Koordinat Vektor adalah: (3, 6, 9)\n"
          ]
        },
        {
          "output_type": "execute_result",
          "data": {
            "text/plain": [
              "11.224972160321824"
            ]
          },
          "metadata": {},
          "execution_count": 3
        }
      ]
    },
    {
      "cell_type": "markdown",
      "source": [
        "- fungsi norm() adalah fungsi untuk menghitung norm dari sebuah vector yaitu\n",
        "norm = $\\sqrt{x^2 + y^2 + z^2}$ . Buatlah fungsi untuk menghitung norm dari vector berdasarkan class yang telah anda buat! \n",
        "\n",
        "- Euclidian Distance adalah jarak antara 2 vector dan didefinisikan sebagai \n",
        "$$d = \\sqrt{ (x_1 - x_2)^2 + (y_1 - y_2)^2 + (x_1 - x_2)^2 } $$\n",
        "buatlah program untuk menghitung euclidian distance antara 2 vector berdasarkan class yang telah anda buat!"
      ],
      "metadata": {
        "id": "CpM7kaE6p6h7"
      }
    },
    {
      "cell_type": "code",
      "source": [
        "class Euclidean(Vector):\n",
        "  def __init__(self, x, y, z, X2, Y2, Z2):\n",
        "    self.x = x\n",
        "    self.y = y\n",
        "    self.z = z\n",
        "    self.x2 = X2\n",
        "    self.y2 = Y2\n",
        "    self.z2 = Z2\n",
        "    \n",
        "  def euclidean_distance(self):\n",
        "    d = sqrt((self.x - self.x2)**2+(self.y - self.y2)**2+(self.z - self.z2)**2)\n",
        "    return d\n",
        "\n",
        "jarak_vektor = Euclidean(6,3,2,9,6,4)\n",
        "jarak_vektor.euclidean_distance()"
      ],
      "metadata": {
        "colab": {
          "base_uri": "https://localhost:8080/"
        },
        "id": "_JPivy0vqC3a",
        "outputId": "eb34617e-cf0e-4eaf-eabc-0c02351dd153"
      },
      "execution_count": 5,
      "outputs": [
        {
          "output_type": "execute_result",
          "data": {
            "text/plain": [
              "4.69041575982343"
            ]
          },
          "metadata": {},
          "execution_count": 5
        }
      ]
    },
    {
      "cell_type": "markdown",
      "source": [
        "- Perhatikan tabel berikut\n",
        "\n",
        "| Vector | x   | y   | z   | kelas |\n",
        "| ------ | --- | --- | --- | ----- |\n",
        "| A      | 0   | 1   | 1   | 0     |\n",
        "| B      | 2   | 2   | 2   | 1     |\n",
        "| C      | 1.5 | 1.2 | 1.5 | 1     |\n",
        "| D      | 10  | 9   | 8   | 0     |\n",
        "| E      | 5   | 5   | 5   | 0     |\n",
        "| F      | 8   | 8   | 8   | 0     |\n",
        "| G      | 6   | 6   | 1   | 0     |\n",
        "| H      | 3   | 3   | 3   | ?     |\n",
        "\n",
        "Salah satu metode dalam data science untuk melakukan klasifikasi adalah dengan menggunakan k-nearest neighbor, dimana cara menentukan label kelas adalah dengan cara melihat tetangga dengan euclidian distance terdekat. Tentukan kelas dari vector H dengan cara:\n",
        "- Tentukan 3 tetangga paling dekat dari H \n",
        "- dari 3 tetangga tersebut, pilih kelas yang paling banyak muncul\n",
        "- Jadikan kelas yang paling banyak muncul tersebut sebagai kelas dari vector H\n",
        "\n",
        "Implementasikan algoritma tersebut menggunakan program python dengan paradigma object-oriented programming yang telah anda pelajari!"
      ],
      "metadata": {
        "id": "R0RQkOhKqNXF"
      }
    },
    {
      "cell_type": "code",
      "source": [
        "A = [0,1,1]\n",
        "B = [2,2,2]\n",
        "C = [1.5,1.2,1.5]\n",
        "D = [10,9,8]\n",
        "E = [5,5,5]\n",
        "F = [8,8,8]\n",
        "G = [6,6,1]\n",
        "H = [3,3,3]\n",
        "class Euclidean(Vector):\n",
        "    def __init__(self,vektor1,vektor2):\n",
        "        self.x1, self.y1, self.z1 = vektor1\n",
        "        self.x2, self.y2, self.z2 = vektor2\n",
        "    \n",
        "    def euclidean_distance(self):\n",
        "        d = sqrt((self.x1 - self.x2)**2+(self.y1 - self.y2)**2+(self.z1 - self.z2)**2)\n",
        "        print(d)\n",
        "    \n",
        "\n",
        "jarak_h_a = Euclidean(H,A)\n",
        "satu = jarak_h_a.euclidean_distance()\n",
        "\n",
        "jarak_h_b = Euclidean(H,B)\n",
        "jarak_h_b.euclidean_distance()\n",
        "\n",
        "jarak_h_c = Euclidean(H,C)\n",
        "jarak_h_c.euclidean_distance()\n",
        "\n",
        "jarak_h_d = Euclidean(H,D)\n",
        "jarak_h_d.euclidean_distance()\n",
        "\n",
        "jarak_h_e = Euclidean(H,E)\n",
        "jarak_h_e.euclidean_distance()\n",
        "\n",
        "jarak_h_f = Euclidean(H,F)\n",
        "jarak_h_f.euclidean_distance()\n",
        "\n",
        "jarak_h_g = Euclidean(H,G)\n",
        "jarak_h_g.euclidean_distance()\n"
      ],
      "metadata": {
        "colab": {
          "base_uri": "https://localhost:8080/"
        },
        "id": "DMv7xBKAqZ23",
        "outputId": "373d7c9f-d3a7-426c-b7ef-4a4d4a124358"
      },
      "execution_count": 6,
      "outputs": [
        {
          "output_type": "stream",
          "name": "stdout",
          "text": [
            "4.123105625617661\n",
            "1.7320508075688772\n",
            "2.7820855486487113\n",
            "10.488088481701515\n",
            "3.4641016151377544\n",
            "8.660254037844387\n",
            "4.69041575982343\n"
          ]
        }
      ]
    },
    {
      "cell_type": "code",
      "source": [
        "import statistics\n",
        "b = 1.7320508075688772\n",
        "kelas_b = 1\n",
        "c = 2.7820855486487113\n",
        "kelas_c = 1\n",
        "e = 3.4641016151377544\n",
        "kelas_e = 0\n",
        "kelas_all = [kelas_b,kelas_c,kelas_e]\n",
        "kelas_all\n",
        "kelas_h = statistics.mode(kelas_all)\n",
        "kelas_h"
      ],
      "metadata": {
        "colab": {
          "base_uri": "https://localhost:8080/"
        },
        "id": "vL7bdu9IqfKg",
        "outputId": "b4efcb52-c96f-474a-8ef8-e2558d4e163d"
      },
      "execution_count": 7,
      "outputs": [
        {
          "output_type": "execute_result",
          "data": {
            "text/plain": [
              "1"
            ]
          },
          "metadata": {},
          "execution_count": 7
        }
      ]
    }
  ]
}